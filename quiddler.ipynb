{
 "cells": [
  {
   "cell_type": "code",
   "execution_count": 17,
   "id": "7ed901b7",
   "metadata": {},
   "outputs": [
    {
     "name": "stdout",
     "output_type": "stream",
     "text": [
      "\u001b[0m\n",
      "\u001b[34m\u001b[1m  You can now view your Streamlit app in your browser.\u001b[0m\n",
      "\u001b[0m\n",
      "\u001b[34m  Local URL: \u001b[0m\u001b[1mhttp://localhost:8501\u001b[0m\n",
      "\u001b[34m  Network URL: \u001b[0m\u001b[1mhttp://192.168.1.178:8501\u001b[0m\n",
      "\u001b[0m\n",
      "2025-06-04 21:50:54.478 Uncaught app exception\n",
      "Traceback (most recent call last):\n",
      "  File \"/Library/Frameworks/Python.framework/Versions/3.12/lib/python3.12/site-packages/streamlit/runtime/scriptrunner/script_runner.py\", line 535, in _run_script\n",
      "    exec(code, module.__dict__)\n",
      "  File \"/Volumes/TAFOL/Daniel Cooke/Work & Learning/Learning/Python/Streamlit/Quiddler-ScoreSheet/quiddler.py\", line 76, in <module>\n",
      "    main()\n",
      "  File \"/Volumes/TAFOL/Daniel Cooke/Work & Learning/Learning/Python/Streamlit/Quiddler-ScoreSheet/quiddler.py\", line 54, in main\n",
      "    scoresheet.render_scoresheet()                # ← call the method\n",
      "    ^^^^^^^^^^^^^^^^^^^^^^^^^^^^^^\n",
      "  File \"/Volumes/TAFOL/Daniel Cooke/Work & Learning/Learning/Python/Streamlit/Quiddler-ScoreSheet/scoresheet.py\", line 240, in render_scoresheet\n",
      "    self.render_score_editor()\n",
      "  File \"/Volumes/TAFOL/Daniel Cooke/Work & Learning/Learning/Python/Streamlit/Quiddler-ScoreSheet/scoresheet.py\", line 162, in render_score_editor\n",
      "    edited_df = st.data_editor(\n",
      "                ^^^^^^^^^^^^^^^\n",
      "  File \"/Library/Frameworks/Python.framework/Versions/3.12/lib/python3.12/site-packages/streamlit/runtime/metrics_util.py\", line 397, in wrapped_func\n",
      "    result = non_optional_func(*args, **kwargs)\n",
      "             ^^^^^^^^^^^^^^^^^^^^^^^^^^^^^^^^^^\n",
      "  File \"/Library/Frameworks/Python.framework/Versions/3.12/lib/python3.12/site-packages/streamlit/elements/widgets/data_editor.py\", line 771, in data_editor\n",
      "    check_session_state_rules(default_value=None, key=key, writes_allowed=False)\n",
      "  File \"/Library/Frameworks/Python.framework/Versions/3.12/lib/python3.12/site-packages/streamlit/elements/utils.py\", line 88, in check_session_state_rules\n",
      "    raise StreamlitAPIException(SESSION_STATE_WRITES_NOT_ALLOWED_ERROR_TEXT)\n",
      "streamlit.errors.StreamlitAPIException: \n",
      "Values for st.button, st.download_button, st.file_uploader, st.data_editor,\n",
      "st.chat_input, and st.form cannot be set using st.session_state.\n",
      "\n",
      "2025-06-04 22:08:21.936 `label` got an empty value. This is discouraged for accessibility reasons and may be disallowed in the future by raising an exception. Please provide a non-empty label and hide it with label_visibility if needed.\n",
      "2025-06-04 22:08:47.658 `label` got an empty value. This is discouraged for accessibility reasons and may be disallowed in the future by raising an exception. Please provide a non-empty label and hide it with label_visibility if needed.\n",
      "2025-06-04 22:13:05.456 Uncaught app exception\n",
      "Traceback (most recent call last):\n",
      "  File \"/Library/Frameworks/Python.framework/Versions/3.12/lib/python3.12/site-packages/streamlit/runtime/scriptrunner/script_runner.py\", line 535, in _run_script\n",
      "    exec(code, module.__dict__)\n",
      "  File \"/Volumes/TAFOL/Daniel Cooke/Work & Learning/Learning/Python/Streamlit/Quiddler-ScoreSheet/quiddler.py\", line 6, in <module>\n",
      "    from scoresheet import QuiddlerScoresheet\n",
      "  File \"/Volumes/TAFOL/Daniel Cooke/Work & Learning/Learning/Python/Streamlit/Quiddler-ScoreSheet/scoresheet.py\", line 3\n",
      "    It seems that each cell within the 'Enter Scores Below' reset to 0 the first time you enter a number, which is very annoying; This means i have to enter values 2x for each row....can we fix this so when i enter a point like 9 it stays and wont reset to 0 only for me to enter it again: # scoresheet.\n",
      "                                                                                                                                                                    ^\n",
      "SyntaxError: invalid decimal literal\n",
      "2025-06-04 22:13:07.672 Uncaught app exception\n",
      "Traceback (most recent call last):\n",
      "  File \"/Library/Frameworks/Python.framework/Versions/3.12/lib/python3.12/site-packages/streamlit/runtime/scriptrunner/script_runner.py\", line 535, in _run_script\n",
      "    exec(code, module.__dict__)\n",
      "  File \"/Volumes/TAFOL/Daniel Cooke/Work & Learning/Learning/Python/Streamlit/Quiddler-ScoreSheet/quiddler.py\", line 6, in <module>\n",
      "    from scoresheet import QuiddlerScoresheet\n",
      "  File \"/Volumes/TAFOL/Daniel Cooke/Work & Learning/Learning/Python/Streamlit/Quiddler-ScoreSheet/scoresheet.py\", line 3\n",
      "    It seems that each cell within the 'Enter Scores Below' reset to 0 the first time you enter a number, which is very annoying; This means i have to enter values 2x for each row....can we fix this so when i enter a point like 9 it stays and wont reset to 0 only for me to enter it again: # scoresheet.\n",
      "                                                                                                                                                                    ^\n",
      "SyntaxError: invalid decimal literal\n",
      "^C\n"
     ]
    }
   ],
   "source": [
    "# In a notebook cell, prefix with `!` to run Streamlit in a subprocess:\n",
    "!streamlit run \"/Volumes/TAFOL/Daniel Cooke/Work & Learning/Learning/Python/Streamlit/Quiddler-ScoreSheet/quiddler.py\"\n"
   ]
  }
 ],
 "metadata": {
  "kernelspec": {
   "display_name": "Python 3",
   "language": "python",
   "name": "python3"
  },
  "language_info": {
   "codemirror_mode": {
    "name": "ipython",
    "version": 3
   },
   "file_extension": ".py",
   "mimetype": "text/x-python",
   "name": "python",
   "nbconvert_exporter": "python",
   "pygments_lexer": "ipython3",
   "version": "3.12.2"
  }
 },
 "nbformat": 4,
 "nbformat_minor": 5
}
