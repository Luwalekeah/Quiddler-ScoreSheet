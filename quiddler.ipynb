{
 "cells": [
  {
   "cell_type": "code",
   "execution_count": 10,
   "id": "7ed901b7",
   "metadata": {},
   "outputs": [
    {
     "name": "stdout",
     "output_type": "stream",
     "text": [
      "\u001b[0m\n",
      "\u001b[34m\u001b[1m  You can now view your Streamlit app in your browser.\u001b[0m\n",
      "\u001b[0m\n",
      "\u001b[34m  Local URL: \u001b[0m\u001b[1mhttp://localhost:8501\u001b[0m\n",
      "\u001b[34m  Network URL: \u001b[0m\u001b[1mhttp://192.168.10.179:8501\u001b[0m\n",
      "\u001b[0m\n",
      "^C\n"
     ]
    }
   ],
   "source": [
    "# In a notebook cell, prefix with `!` to run Streamlit in a subprocess:\n",
    "!streamlit run \"/Volumes/TAFOL/Daniel Cooke/Work & Learning/Learning/Python/Streamlit/Quiddler-ScoreSheet/quiddler.py\"\n"
   ]
  },
  {
   "cell_type": "code",
   "execution_count": null,
   "id": "017e1e4c",
   "metadata": {},
   "outputs": [],
   "source": []
  }
 ],
 "metadata": {
  "kernelspec": {
   "display_name": "Python 3",
   "language": "python",
   "name": "python3"
  },
  "language_info": {
   "codemirror_mode": {
    "name": "ipython",
    "version": 3
   },
   "file_extension": ".py",
   "mimetype": "text/x-python",
   "name": "python",
   "nbconvert_exporter": "python",
   "pygments_lexer": "ipython3",
   "version": "3.12.2"
  }
 },
 "nbformat": 4,
 "nbformat_minor": 5
}
