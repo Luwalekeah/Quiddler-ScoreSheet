{
 "cells": [
  {
   "cell_type": "code",
   "execution_count": 16,
   "id": "7ed901b7",
   "metadata": {},
   "outputs": [
    {
     "name": "stdout",
     "output_type": "stream",
     "text": [
      "\u001b[0m\n",
      "\u001b[34m\u001b[1m  You can now view your Streamlit app in your browser.\u001b[0m\n",
      "\u001b[0m\n",
      "\u001b[34m  Local URL: \u001b[0m\u001b[1mhttp://localhost:8501\u001b[0m\n",
      "\u001b[34m  Network URL: \u001b[0m\u001b[1mhttp://192.168.1.178:8501\u001b[0m\n",
      "\u001b[0m\n",
      "2025-06-04 20:26:55.156 Uncaught app exception\n",
      "Traceback (most recent call last):\n",
      "  File \"/Library/Frameworks/Python.framework/Versions/3.12/lib/python3.12/site-packages/streamlit/runtime/scriptrunner/script_runner.py\", line 535, in _run_script\n",
      "    exec(code, module.__dict__)\n",
      "  File \"/Volumes/TAFOL/Daniel Cooke/Work & Learning/Learning/Python/Streamlit/Quiddler-ScoreSheet/quiddler.py\", line 63, in <module>\n",
      "    main()\n",
      "  File \"/Volumes/TAFOL/Daniel Cooke/Work & Learning/Learning/Python/Streamlit/Quiddler-ScoreSheet/quiddler.py\", line 52, in main\n",
      "    scoresheet.render_scoresheet()                # ← call the method\n",
      "    ^^^^^^^^^^^^^^^^^^^^^^^^^^^^^^\n",
      "  File \"/Volumes/TAFOL/Daniel Cooke/Work & Learning/Learning/Python/Streamlit/Quiddler-ScoreSheet/scoresheet.py\", line 138, in render_scoresheet\n",
      "    self.render_totals_row()\n",
      "  File \"/Volumes/TAFOL/Daniel Cooke/Work & Learning/Learning/Python/Streamlit/Quiddler-ScoreSheet/scoresheet.py\", line 116, in render_totals_row\n",
      "    totals = df.sum(axis=0)\n",
      "             ^^^^^^\n",
      "AttributeError: 'dict' object has no attribute 'sum'\n",
      "2025-06-04 20:27:09.064 Uncaught app exception\n",
      "Traceback (most recent call last):\n",
      "  File \"/Library/Frameworks/Python.framework/Versions/3.12/lib/python3.12/site-packages/streamlit/runtime/scriptrunner/script_runner.py\", line 535, in _run_script\n",
      "    exec(code, module.__dict__)\n",
      "  File \"/Volumes/TAFOL/Daniel Cooke/Work & Learning/Learning/Python/Streamlit/Quiddler-ScoreSheet/quiddler.py\", line 63, in <module>\n",
      "    main()\n",
      "  File \"/Volumes/TAFOL/Daniel Cooke/Work & Learning/Learning/Python/Streamlit/Quiddler-ScoreSheet/quiddler.py\", line 52, in main\n",
      "    scoresheet.render_scoresheet()                # ← call the method\n",
      "    ^^^^^^^^^^^^^^^^^^^^^^^^^^^^^^\n",
      "  File \"/Volumes/TAFOL/Daniel Cooke/Work & Learning/Learning/Python/Streamlit/Quiddler-ScoreSheet/scoresheet.py\", line 137, in render_scoresheet\n",
      "    self.render_score_editor()\n",
      "  File \"/Volumes/TAFOL/Daniel Cooke/Work & Learning/Learning/Python/Streamlit/Quiddler-ScoreSheet/scoresheet.py\", line 94, in render_score_editor\n",
      "    df = self.build_initial_dataframe()\n",
      "         ^^^^^^^^^^^^^^^^^^^^^^^^^^^^^^\n",
      "  File \"/Volumes/TAFOL/Daniel Cooke/Work & Learning/Learning/Python/Streamlit/Quiddler-ScoreSheet/scoresheet.py\", line 78, in build_initial_dataframe\n",
      "    if df.shape != (num_g, num_p):\n",
      "       ^^^^^^^^\n",
      "AttributeError: 'dict' object has no attribute 'shape'\n",
      "2025-06-04 20:27:56.412 Uncaught app exception\n",
      "Traceback (most recent call last):\n",
      "  File \"/Library/Frameworks/Python.framework/Versions/3.12/lib/python3.12/site-packages/streamlit/runtime/scriptrunner/script_runner.py\", line 535, in _run_script\n",
      "    exec(code, module.__dict__)\n",
      "  File \"/Volumes/TAFOL/Daniel Cooke/Work & Learning/Learning/Python/Streamlit/Quiddler-ScoreSheet/quiddler.py\", line 63, in <module>\n",
      "    main()\n",
      "  File \"/Volumes/TAFOL/Daniel Cooke/Work & Learning/Learning/Python/Streamlit/Quiddler-ScoreSheet/quiddler.py\", line 52, in main\n",
      "    scoresheet.render_scoresheet()                # ← call the method\n",
      "    ^^^^^^^^^^^^^^^^^^^^^^^^^^^^^^\n",
      "  File \"/Volumes/TAFOL/Daniel Cooke/Work & Learning/Learning/Python/Streamlit/Quiddler-ScoreSheet/scoresheet.py\", line 158, in render_scoresheet\n",
      "    self.render_totals_row()\n",
      "  File \"/Volumes/TAFOL/Daniel Cooke/Work & Learning/Learning/Python/Streamlit/Quiddler-ScoreSheet/scoresheet.py\", line 124, in render_totals_row\n",
      "    df = pd.DataFrame(raw)\n",
      "         ^^^^^^^^^^^^^^^^^\n",
      "  File \"/Library/Frameworks/Python.framework/Versions/3.12/lib/python3.12/site-packages/pandas/core/frame.py\", line 767, in __init__\n",
      "    mgr = dict_to_mgr(data, index, columns, dtype=dtype, copy=copy, typ=manager)\n",
      "          ^^^^^^^^^^^^^^^^^^^^^^^^^^^^^^^^^^^^^^^^^^^^^^^^^^^^^^^^^^^^^^^^^^^^^^\n",
      "  File \"/Library/Frameworks/Python.framework/Versions/3.12/lib/python3.12/site-packages/pandas/core/internals/construction.py\", line 503, in dict_to_mgr\n",
      "    return arrays_to_mgr(arrays, columns, index, dtype=dtype, typ=typ, consolidate=copy)\n",
      "           ^^^^^^^^^^^^^^^^^^^^^^^^^^^^^^^^^^^^^^^^^^^^^^^^^^^^^^^^^^^^^^^^^^^^^^^^^^^^^\n",
      "  File \"/Library/Frameworks/Python.framework/Versions/3.12/lib/python3.12/site-packages/pandas/core/internals/construction.py\", line 114, in arrays_to_mgr\n",
      "    index = _extract_index(arrays)\n",
      "            ^^^^^^^^^^^^^^^^^^^^^^\n",
      "  File \"/Library/Frameworks/Python.framework/Versions/3.12/lib/python3.12/site-packages/pandas/core/internals/construction.py\", line 680, in _extract_index\n",
      "    raise ValueError(\n",
      "ValueError: Mixing dicts with non-Series may lead to ambiguous ordering.\n",
      "^C\n"
     ]
    }
   ],
   "source": [
    "# In a notebook cell, prefix with `!` to run Streamlit in a subprocess:\n",
    "!streamlit run \"/Volumes/TAFOL/Daniel Cooke/Work & Learning/Learning/Python/Streamlit/Quiddler-ScoreSheet/quiddler.py\"\n"
   ]
  }
 ],
 "metadata": {
  "kernelspec": {
   "display_name": "Python 3",
   "language": "python",
   "name": "python3"
  },
  "language_info": {
   "codemirror_mode": {
    "name": "ipython",
    "version": 3
   },
   "file_extension": ".py",
   "mimetype": "text/x-python",
   "name": "python",
   "nbconvert_exporter": "python",
   "pygments_lexer": "ipython3",
   "version": "3.12.2"
  }
 },
 "nbformat": 4,
 "nbformat_minor": 5
}
